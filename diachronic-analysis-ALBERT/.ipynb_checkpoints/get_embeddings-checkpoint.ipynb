{
 "cells": [
  {
   "cell_type": "code",
   "execution_count": null,
   "metadata": {},
   "outputs": [],
   "source": [
    "import os\n",
    "import torch\n",
    "import pickle\n",
    "import numpy as np\n",
    "\n",
    "from transformers import AlbertTokenizer, AlbertForMaskedLM, AlbertConfig\n",
    "from collections import OrderedDict"
   ]
  },
  {
   "cell_type": "code",
   "execution_count": null,
   "metadata": {
    "scrolled": true
   },
   "outputs": [],
   "source": [
    "folder = '/home/ayan-yue/Documents/projects/diachronic-analysis-ALBERT'\n",
    "\n",
    "models = OrderedDict()\n",
    "tokenizers = OrderedDict()\n",
    "\n",
    "for genre in os.listdir(folder + '/models'):\n",
    "    \n",
    "    config = AlbertConfig.from_json_file(folder + '/models' + '/' + genre + '/config.json')\n",
    "    model = AlbertForMaskedLM.from_pretrained('albert-base-v2', config=config)\n",
    "    state_dict_path = (folder + '/models' + '/' + genre + '/pytorch_model.bin')        \n",
    "    model.load_state_dict(torch.load(state_dict_path))\n",
    "    \n",
    "    models[genre] = model\n",
    "    tokenizers[genre] = AlbertTokenizer.from_pretrained(folder + '/models' + '/' + genre)"
   ]
  },
  {
   "cell_type": "code",
   "execution_count": null,
   "metadata": {},
   "outputs": [],
   "source": [
    "with open (folder + '/pickled-d', 'rb') as f:\n",
    "\n",
    "    d = pickle.load(f)"
   ]
  },
  {
   "cell_type": "code",
   "execution_count": null,
   "metadata": {},
   "outputs": [],
   "source": [
    "#AddMoreClusters code \n",
    "\n",
    "def get_embedding_for_sentence(tokenized_sent, genre):\n",
    "    \n",
    "    tokenizer = tokenizers[genre]\n",
    "    model = models[genre]\n",
    "    \n",
    "    #print(\"Getting embedding for sentence\")\n",
    "    indexed_tokens = tokenizer.convert_tokens_to_ids(tokenized_sent)\n",
    "    tokens_tensor = torch.tensor([indexed_tokens])\n",
    "    segments_ids = [1] * len(tokenized_sent)\n",
    "    segments_tensors = torch.tensor([segments_ids])\n",
    "    \n",
    "    with torch.no_grad():\n",
    "        \n",
    "        _ , encoded_layers = model(tokens_tensor, segments_tensors)\n",
    "        batch_i = 0\n",
    "        token_embeddings = []\n",
    "        \n",
    "        # For each token in the sentence...\n",
    "        for token_i in range(len(tokenized_sent)):\n",
    "            \n",
    "            hidden_layers = []\n",
    "            \n",
    "            # For each of the 12 layers...\n",
    "            for layer_i in range(len(encoded_layers)):\n",
    "                \n",
    "                # Lookup the vector for `token_i` in `layer_i`\n",
    "                vec = encoded_layers[layer_i][batch_i][token_i]\n",
    "                hidden_layers.append(vec)\n",
    "                \n",
    "            token_embeddings.append(hidden_layers\n",
    "                                   )\n",
    "        concatenated_last_4_layers = [torch.cat((layer[-1], layer[-2], layer[-3], layer[-4]), 0) for layer in token_embeddings]\n",
    "        summed_last_4_layers = [torch.sum(torch.stack(layer)[-4:], 0) for layer in token_embeddings]\n",
    "        last_layer = [layer[-1] for layer in token_embeddings]\n",
    "        \n",
    "        return summed_last_4_layers\n",
    "    \n",
    "    \n",
    "def retrieve_sentences_with_word(word, genre):\n",
    "    \n",
    "    sentences = [sentence for sentence in d[genre] if word in sentence]\n",
    "    \n",
    "    return sentences\n",
    "\n",
    "\n",
    "def get_embeddings_for_word(word, sentences, genre):\n",
    "    \n",
    "    tokenizer = tokenizers[genre]\n",
    "    \n",
    "    print(\"Getting ALBERT embeddings for word:\", word)\n",
    "    word_embeddings = []\n",
    "    valid_sentences = []\n",
    "    for i, sentence in enumerate(sentences):\n",
    "        \n",
    "            marked_sent = \"[CLS] \" + sentence + \" [SEP]\"\n",
    "            tokenized_sent = tokenizer.tokenize(marked_sent)\n",
    "            \n",
    "            if tokenizer.tokenize(word)[0] in tokenized_sent and len(tokenized_sent) < 512 and len(tokenized_sent) > 3:\n",
    "                \n",
    "                sent_embedding = get_embedding_for_sentence(tokenized_sent, genre)\n",
    "                word_indexes = list(np.where(np.array(tokenized_sent) == tokenizer.tokenize(word))[0])\n",
    "                \n",
    "                for index in word_indexes:\n",
    "                    \n",
    "                    word_embedding = np.array(sent_embedding[index])\n",
    "                    word_embeddings.append(word_embedding)\n",
    "                    valid_sentences.append(sentence)\n",
    "                    \n",
    "    word_embeddings = np.array(word_embeddings)\n",
    "    valid_sentences = np.array(valid_sentences)\n",
    "    \n",
    "    return word_embeddings, valid_sentences\n",
    "\n",
    "\n",
    "def get_embeddings(word, genre):\n",
    "    \n",
    "    sentences = retrieve_sentences_with_word(word, genre)\n",
    "    embeddings = get_embeddings_for_word(word, sentences, genre)\n",
    "    \n",
    "    return embeddings"
   ]
  },
  {
   "cell_type": "code",
   "execution_count": null,
   "metadata": {},
   "outputs": [],
   "source": [
    "get_embeddings('innovation', 'reports_texts')\n",
    "    "
   ]
  },
  {
   "cell_type": "code",
   "execution_count": null,
   "metadata": {},
   "outputs": [],
   "source": []
  },
  {
   "cell_type": "code",
   "execution_count": null,
   "metadata": {},
   "outputs": [],
   "source": []
  },
  {
   "cell_type": "code",
   "execution_count": null,
   "metadata": {},
   "outputs": [],
   "source": []
  },
  {
   "cell_type": "code",
   "execution_count": null,
   "metadata": {},
   "outputs": [],
   "source": []
  },
  {
   "cell_type": "code",
   "execution_count": null,
   "metadata": {},
   "outputs": [],
   "source": []
  },
  {
   "cell_type": "code",
   "execution_count": null,
   "metadata": {},
   "outputs": [],
   "source": []
  }
 ],
 "metadata": {
  "kernelspec": {
   "display_name": "env1",
   "language": "python",
   "name": "env1"
  },
  "language_info": {
   "codemirror_mode": {
    "name": "ipython",
    "version": 3
   },
   "file_extension": ".py",
   "mimetype": "text/x-python",
   "name": "python",
   "nbconvert_exporter": "python",
   "pygments_lexer": "ipython3",
   "version": "3.6.8"
  }
 },
 "nbformat": 4,
 "nbformat_minor": 2
}
